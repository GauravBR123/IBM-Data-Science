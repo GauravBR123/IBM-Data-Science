{
  "nbformat": 4,
  "nbformat_minor": 0,
  "metadata": {
    "colab": {
      "provenance": []
    },
    "kernelspec": {
      "name": "python3",
      "display_name": "Python 3"
    },
    "language_info": {
      "name": "python"
    }
  },
  "cells": [
    {
      "cell_type": "markdown",
      "source": [
        "# Name: Gaurav Bharatavalli Rangaswamy"
      ],
      "metadata": {
        "id": "zNId4KbJ26yC"
      }
    },
    {
      "cell_type": "markdown",
      "source": [
        "# Introduction to Data Science"
      ],
      "metadata": {
        "id": "jMHJupT0xKZm"
      }
    },
    {
      "cell_type": "markdown",
      "source": [
        "## Introduction\n",
        "\n",
        "Welcome to this data analysis notebook. In this notebook, we will explore various data analysis techniques and tools to gain insights from our data. Data analysis is a crucial part of making data-driven decisions, and we'll cover a wide range of topics to help you become proficient in this field.\n",
        "\n",
        "Let's get started!"
      ],
      "metadata": {
        "id": "zFaQyZ-J2s1o"
      }
    },
    {
      "cell_type": "markdown",
      "source": [
        "## Data Science Languages\n",
        "\n",
        "Data science is a multidisciplinary field that utilizes various programming languages to analyze and interpret data. Some of the popular data science languages include:\n",
        "\n",
        "1. **Python**: Known for its versatility and extensive libraries for data analysis and machine learning, such as NumPy, Pandas, and scikit-learn.\n",
        "\n",
        "2. **R**: Specifically designed for statistics and data analysis, with a strong ecosystem of packages like ggplot2 and dplyr.\n",
        "\n",
        "3. **SQL (Structured Query Language)**: Essential for working with relational databases, which are commonly used to store and manage data.\n",
        "\n",
        "4. **Julia**: Gaining popularity for its high-performance capabilities and data analysis libraries.\n",
        "\n",
        "5. **SAS (Statistical Analysis System)**: Widely used in enterprise environments for data management and advanced analytics.\n",
        "\n",
        "6. **Java and Scala**: Popular for big data processing frameworks like Apache Hadoop and Apache Spark.\n",
        "\n",
        "7. **MATLAB**: Used in academia and industry for numerical computing, data analysis, and visualization.\n",
        "\n",
        "These languages provide the foundation for data scientists to work with data and extract valuable insights. The choice of language often depends on the specific requirements of a data analysis project."
      ],
      "metadata": {
        "id": "XFZPdgxc26If"
      }
    },
    {
      "cell_type": "markdown",
      "source": [
        "## Data Science Libraries\n",
        "\n",
        "Data scientists often rely on a variety of libraries and packages to perform data analysis, machine learning, and visualization. Some of the widely used data science libraries include:\n",
        "\n",
        "1. **NumPy**: A fundamental library for numerical and array operations in Python.\n",
        "\n",
        "2. **Pandas**: Provides data structures and data analysis tools for efficient data manipulation.\n",
        "\n",
        "3. **Matplotlib**: A versatile library for creating static, animated, and interactive visualizations in Python.\n",
        "\n",
        "4. **Seaborn**: Built on top of Matplotlib, it offers a high-level interface for creating informative and attractive statistical graphics.\n",
        "\n",
        "5. **scikit-learn**: A comprehensive machine learning library for classification, regression, clustering, and more.\n",
        "\n",
        "6. **TensorFlow**: Developed by Google, it's an open-source machine learning framework for building and training models.\n",
        "\n",
        "7. **Keras**: A high-level neural networks API that runs on top of TensorFlow, Theano, or CNTK.\n",
        "\n",
        "8. **PyTorch**: An open-source machine learning framework known for its dynamic computation graphs.\n",
        "\n",
        "9. **SciPy**: Provides additional functionalities for scientific and technical computing, including optimization and signal processing.\n",
        "\n",
        "10. **Statsmodels**: Focuses on estimating and interpreting statistical models in Python.\n",
        "\n",
        "11. **NLTK (Natural Language Toolkit)**: A library for working with human language data, such as text and speech.\n",
        "\n",
        "12. **XGBoost**: A scalable and accurate implementation of gradient boosting machines.\n",
        "\n",
        "13. **LightGBM**: A gradient boosting framework that uses tree-based learning algorithms.\n",
        "\n",
        "14. **CatBoost**: An open-source library for gradient boosting on decision trees.\n",
        "\n",
        "15. **OpenCV**: A computer vision library with tools for image and video analysis.\n",
        "\n",
        "These libraries are essential tools for data scientists, enabling them to explore data, build machine learning models,\n"
      ],
      "metadata": {
        "id": "mk3QiRbD255B"
      }
    },
    {
      "cell_type": "markdown",
      "source": [
        "## Data Science Tools\n",
        "\n",
        "Here is a table summarizing some popular tools used in the field of Data Science:\n",
        "\n",
        "| Tool                | Description                                  | Website                                     |\n",
        "|---------------------|----------------------------------------------|--------------------------------------------|\n",
        "| **Jupyter Notebooks** | Interactive computing and data analysis environment | [Jupyter](https://jupyter.org/)          |\n",
        "| **RStudio**           | Integrated development environment for R      | [RStudio](https://rstudio.com/)           |\n",
        "| **Python**            | High-level, general-purpose programming language | [Python](https://www.python.org/)         |\n",
        "| **SQL**               | Database querying and data manipulation language | N/A                                      |\n",
        "| **Tableau**           | Data visualization tool                       | [Tableau](https://www.tableau.com/)       |\n",
        "| **Power BI**          | Business analytics tool by Microsoft         | [Power BI](https://powerbi.microsoft.com/) |\n",
        "| **SAS**               | Advanced analytics and business intelligence software | [SAS](https://www.sas.com/)           |\n",
        "| **Apache Spark**      | Distributed data processing framework          | [Apache Spark](https://spark.apache.org/)   |\n",
        "| **TensorBoard**       | TensorFlow's visualization toolkit             | [TensorBoard](https://www.tensorflow.org/tensorboard) |\n",
        "| **Excel**             | Spreadsheet software with data analysis capabilities | [Excel](https://www.microsoft.com/en-us/microsoft-365/excel) |\n",
        "\n",
        "These tools play a crucial role in data manipulation, analysis, visualization, and machine learning, making them indispensable for data scientists.\n"
      ],
      "metadata": {
        "id": "qCoibWQY252P"
      }
    },
    {
      "cell_type": "markdown",
      "source": [
        "## Arithmetic Expression Examples\n",
        "\n",
        "Arithmetic expressions are fundamental in mathematics and programming. They involve basic operations such as addition, subtraction, multiplication, and division to perform mathematical calculations. In this section, we'll explore some common arithmetic expressions and their results.\n",
        "\n",
        "### Addition\n",
        "\n",
        "```python\n",
        "2 + 3   # Result: 5\n"
      ],
      "metadata": {
        "id": "ceHyLogf3hTS"
      }
    },
    {
      "cell_type": "code",
      "source": [
        "# Multiply and add numbers\n",
        "result = (5 * 3) + (7 * 2)\n",
        "result"
      ],
      "metadata": {
        "colab": {
          "base_uri": "https://localhost:8080/"
        },
        "id": "vj0g6KPD3zqZ",
        "outputId": "2adc63f6-dafb-4cf6-ac78-d16748cd4dc3"
      },
      "execution_count": 2,
      "outputs": [
        {
          "output_type": "execute_result",
          "data": {
            "text/plain": [
              "29"
            ]
          },
          "metadata": {},
          "execution_count": 2
        }
      ]
    },
    {
      "cell_type": "code",
      "source": [
        "# Convert minutes to hours\n",
        "minutes = 120  # Change this value to the number of minutes you want to convert\n",
        "hours = minutes / 60\n",
        "hours"
      ],
      "metadata": {
        "colab": {
          "base_uri": "https://localhost:8080/"
        },
        "id": "6NlyBcJM3_AT",
        "outputId": "b2f511a0-bdca-4421-acd5-c77579fe7a45"
      },
      "execution_count": 4,
      "outputs": [
        {
          "output_type": "execute_result",
          "data": {
            "text/plain": [
              "2.0"
            ]
          },
          "metadata": {},
          "execution_count": 4
        }
      ]
    },
    {
      "cell_type": "markdown",
      "source": [
        "## Objectives\n",
        "\n",
        "In this notebook, we aim to achieve the following objectives:\n",
        "\n",
        "1. Explore data science languages and libraries.\n",
        "2. Perform arithmetic operations in Python.\n",
        "3. Convert minutes to hours.\n",
        "4. Discuss the importance of data governance.\n",
        "5. Work with Jupyter Notebook and Git repositories.\n",
        "\n",
        "Let's get started!"
      ],
      "metadata": {
        "id": "z9qo_5Im4EmZ"
      }
    },
    {
      "cell_type": "markdown",
      "source": [
        "## Author\n",
        "\n",
        "- Gaurav Bharatavalli Rangaswamy"
      ],
      "metadata": {
        "id": "103_QKbs4O-T"
      }
    }
  ]
}